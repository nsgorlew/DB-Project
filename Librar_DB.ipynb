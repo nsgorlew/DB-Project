{
 "cells": [
  {
   "cell_type": "code",
   "execution_count": 14,
   "metadata": {},
   "outputs": [],
   "source": [
    "import psycopg2\n",
    "import config\n",
    "from configparser import ConfigParser\n",
    "import pandas as pd\n",
    "import csv"
   ]
  },
  {
   "cell_type": "code",
   "execution_count": 15,
   "metadata": {},
   "outputs": [],
   "source": [
    "conn = psycopg2.connect(database='library', user='postgres', password='postgres')"
   ]
  },
  {
   "cell_type": "code",
   "execution_count": 16,
   "metadata": {},
   "outputs": [],
   "source": [
    "cur = conn.cursor()\n",
    "cur.execute('SELECT version()')"
   ]
  },
  {
   "cell_type": "code",
   "execution_count": 17,
   "metadata": {},
   "outputs": [],
   "source": [
    "version = cur.fetchone()[0]"
   ]
  },
  {
   "cell_type": "code",
   "execution_count": 18,
   "metadata": {},
   "outputs": [
    {
     "name": "stdout",
     "output_type": "stream",
     "text": [
      "PostgreSQL 13.2, compiled by Visual C++ build 1914, 64-bit\n"
     ]
    }
   ],
   "source": [
    "print(version)"
   ]
  },
  {
   "cell_type": "code",
   "execution_count": 19,
   "metadata": {},
   "outputs": [],
   "source": [
    "# from configparser import ConfigParser\n",
    "def config(filename='database.ini', section='library'):\n",
    "    # create a parser\n",
    "    parser = ConfigParser()\n",
    "    # read config file\n",
    "    parser.read(filename)\n",
    "\n",
    "    # get section, default to postgresql\n",
    "    db = {}\n",
    "    if parser.has_section(section):\n",
    "        params = parser.items(section)\n",
    "        for param in params:\n",
    "\n",
    "            db[param[0]] = param[1]\n",
    "    else:\n",
    "        raise Exception('Section {0} not found in the {1} file'.format(section, filename))\n",
    "\n",
    "    return db"
   ]
  },
  {
   "cell_type": "markdown",
   "metadata": {},
   "source": [
    "def connect():\n",
    "    \"\"\" Connect to the PostgreSQL database server \"\"\"\n",
    "    conn = None\n",
    "    try:\n",
    "        # read connection parameters\n",
    "        params = config()\n",
    "\n",
    "        # connect to the PostgreSQL server\n",
    "        print('Connecting to the PostgreSQL database...')\n",
    "        conn = psycopg2.connect(**params)\n",
    "\t\t\n",
    "        # create a cursor\n",
    "        cur = conn.cursor()\n",
    "        \n",
    "\t# execute a statement\n",
    "        print('PostgreSQL database version:')\n",
    "        cur.execute('SELECT version()')\n",
    "        cur.execute('SELECT current_database()')\n",
    "\n",
    "        # display the PostgreSQL database server version\n",
    "        db_version = cur.fetchone()\n",
    "        print(db_version)\n",
    "       \n",
    "        # close the communication with the PostgreSQL\n",
    "        cur.close()\n",
    "    except (Exception, psycopg2.DatabaseError) as error:\n",
    "        print(error)\n",
    "    finally:\n",
    "        if conn is not None:\n",
    "            conn.close()\n",
    "            print('Database connection closed.')\n",
    "\n",
    "# test code to verify the communication with the database\n",
    "connect()"
   ]
  },
  {
   "cell_type": "code",
   "execution_count": 26,
   "metadata": {},
   "outputs": [],
   "source": [
    "def create_initial_tables():\n",
    "    \n",
    "    \"\"\" create tables in the PostgreSQL database\"\"\"\n",
    "    commands = (\n",
    "          \"\"\"\n",
    "          CREATE TABLE READER(\n",
    "                RID INTEGER NOT NULL,\n",
    "                RTYPE VARCHAR(255),\n",
    "                RNAME VARCHAR(255),\n",
    "                RADDRESS VARCHAR(255),\n",
    "                PHONE_NO INTEGER,\n",
    "                PRIMARY KEY (RID)\n",
    "                )\n",
    "          \"\"\",\n",
    "          \"\"\"\n",
    "          CREATE TABLE BRANCH (\n",
    "                BID SERIAL NOT NULL,\n",
    "                LNAME VARCHAR(255),\n",
    "                LOCATION VARCHAR(255),\n",
    "                PRIMARY KEY (BID)\n",
    "                )\n",
    "         \"\"\",\n",
    "         \"\"\"\n",
    "          CREATE TABLE RESERVATION (\n",
    "                RES_NO SERIAL NOT NULL,\n",
    "                DTIME DATE NOT NULL,\n",
    "                PRIMARY KEY (RES_NO)\n",
    "                )\n",
    "         \"\"\",\n",
    "         \"\"\"\n",
    "          CREATE TABLE BORROWING (\n",
    "                BOR_NO SERIAL NOT NULL,\n",
    "                BDTIME DATE NOT NULL,\n",
    "                RDTIME DATE NOT NULL,\n",
    "                PRIMARY KEY (BOR_NO)\n",
    "                )\n",
    "         \"\"\",\n",
    "         )\n",
    "    \n",
    "    conn = None\n",
    "    try:\n",
    "        # read the connection parameters\n",
    "        #params = config()\n",
    "        # connect to the PostgreSQL server\n",
    "        conn = psycopg2.connect(database='library', user='postgres', password='postgres')\n",
    "        cur = conn.cursor()\n",
    "        # create table one by one\n",
    "        for command in commands:\n",
    "            cur.execute(command)\n",
    "        # close communication with the PostgreSQL database server\n",
    "        cur.close()\n",
    "        # commit the changes\n",
    "        conn.commit()\n",
    "        print('Query successfully executed')\n",
    "    except (Exception, psycopg2.DatabaseError) as error:\n",
    "        print(error)\n",
    "    finally:\n",
    "        if conn is not None:\n",
    "            conn.close()"
   ]
  },
  {
   "cell_type": "code",
   "execution_count": 27,
   "metadata": {},
   "outputs": [
    {
     "name": "stdout",
     "output_type": "stream",
     "text": [
      "Query successfully executed\n"
     ]
    }
   ],
   "source": [
    "create_initial_tables()"
   ]
  },
  {
   "cell_type": "code",
   "execution_count": 30,
   "metadata": {},
   "outputs": [],
   "source": [
    "def create_all_tables():\n",
    "   # FOREIGN KEY (DOCID)\n",
    "                #REFERENCES DOCUMENT (DOCID)\n",
    "               # ON UPDATE CASCADE ON DELETE CASCADE ( add this in the copy table, once u merge)\n",
    "    \"\"\" create tables in the PostgreSQL database\"\"\"\n",
    "    commands = (\n",
    "        \"\"\"\n",
    "        CREATE TABLE COPY (\n",
    "            DOCID SERIAL NOT NULL,\n",
    "            COPYNO INTEGER NOT NULL,\n",
    "            BID SERIAL NOT NULL,\n",
    "            POSITION VARCHAR(255),\n",
    "            PRIMARY KEY (DOCID, COPYNO, BID),\n",
    "            FOREIGN KEY (BID)\n",
    "                REFERENCES BRANCH (BID)\n",
    "                ON UPDATE CASCADE ON DELETE CASCADE\n",
    "            \n",
    "        )\n",
    "        \"\"\",\n",
    "        \"\"\"\n",
    "        CREATE TABLE RESERVES (\n",
    "            RID SERIAL NOT NULL,\n",
    "            RESERVATION_NO SERIAL NOT NULL,\n",
    "            DOCID SERIAL NOT NULL,\n",
    "            COPYNO INTEGER NOT NULL,\n",
    "            BID SERIAL NOT NULL,\n",
    "            PRIMARY KEY (DOCID),\n",
    "            FOREIGN KEY (DOCID, COPYNO, BID)\n",
    "                REFERENCES COPY (DOCID, COPYNO, BID)\n",
    "                ON UPDATE CASCADE ON DELETE CASCADE,\n",
    "            FOREIGN KEY (RESERVATION_NO)\n",
    "                REFERENCES RESERVATION (RES_NO)\n",
    "                ON UPDATE CASCADE ON DELETE CASCADE,\n",
    "            FOREIGN KEY (RID)\n",
    "                REFERENCES READER (RID)\n",
    "                ON UPDATE CASCADE ON DELETE CASCADE\n",
    "        )\n",
    "        \"\"\",\n",
    "        \"\"\"\n",
    "        CREATE TABLE BORROWS (\n",
    "            BOR_NO SERIAL NOT NULL,\n",
    "            DOCID SERIAL NOT NULL,\n",
    "            COPYNO INTEGER NOT NULL,\n",
    "            BID SERIAL NOT NULL,\n",
    "            RID SERIAL NOT NULL,\n",
    "            PRIMARY KEY (BOR_NO),\n",
    "            FOREIGN KEY (DOCID, COPYNO, BID)\n",
    "                REFERENCES COPY (DOCID, COPYNO, BID)\n",
    "                ON UPDATE CASCADE ON DELETE CASCADE,\n",
    "            FOREIGN KEY (RID)\n",
    "                REFERENCES READER (RID)\n",
    "                ON UPDATE CASCADE ON DELETE CASCADE\n",
    "        )\n",
    "        \"\"\",\n",
    "        \n",
    "            )\n",
    "    \n",
    "    conn = None\n",
    "    try:\n",
    "        # read the connection parameters\n",
    "        #params = config()\n",
    "        # connect to the PostgreSQL server\n",
    "        conn = psycopg2.connect(database='library', user='postgres', password='postgres')\n",
    "        cur = conn.cursor()\n",
    "        # create table one by one\n",
    "        for command in commands:\n",
    "            cur.execute(command)\n",
    "        # close communication with the PostgreSQL database server\n",
    "        cur.close()\n",
    "        # commit the changes\n",
    "        conn.commit()\n",
    "        print('Query successfully executed')\n",
    "    except (Exception, psycopg2.DatabaseError) as error:\n",
    "        print(error)\n",
    "    finally:\n",
    "        if conn is not None:\n",
    "            conn.close()"
   ]
  },
  {
   "cell_type": "code",
   "execution_count": 31,
   "metadata": {
    "scrolled": true
   },
   "outputs": [
    {
     "name": "stdout",
     "output_type": "stream",
     "text": [
      "Query successfully executed\n"
     ]
    }
   ],
   "source": [
    "create_all_tables()"
   ]
  },
  {
   "cell_type": "code",
   "execution_count": 44,
   "metadata": {},
   "outputs": [],
   "source": [
    "def populate(csv_file, sql_insert):\n",
    "#     file = r'csv_files/Gedits.csv'\n",
    "#     sql_insert = \"\"\"INSERT INTO %s (DOCID, ISSUE_NO, PID)\n",
    "#                 VALUES(%s, %s, %s)\"\"\"\n",
    "    conn = None\n",
    "    try:\n",
    "        #params = config()\n",
    "        # connect to the PostgreSQL database\n",
    "        conn = psycopg2.connect(database='library', user='postgres', password='postgres')\n",
    "        cursor = conn.cursor()\n",
    "        with open(csv_file, 'r') as f:\n",
    "            reader = csv.reader(f)\n",
    "            next(reader) # This skips the 1st row which is the header.\n",
    "            for record in reader:\n",
    "#                 print(record)\n",
    "                cursor.execute(sql_insert, record)\n",
    "                conn.commit()\n",
    "\n",
    "    except (Exception, psycopg2.DatabaseError) as error:\n",
    "        print(error)\n",
    "    finally:\n",
    "        if conn is not None:\n",
    "            cursor.close()\n",
    "            conn.close()\n",
    "            print(\"Table populated. Connection closed.\")"
   ]
  },
  {
   "cell_type": "code",
   "execution_count": 45,
   "metadata": {},
   "outputs": [
    {
     "name": "stdout",
     "output_type": "stream",
     "text": [
      "'charmap' codec can't decode byte 0x9d in position 16: character maps to <undefined>\n",
      "Table populated. Connection closed.\n"
     ]
    }
   ],
   "source": [
    "populate('Branch.csv', \"\"\"INSERT INTO BRANCH (BID, LNAME, LOCATION) VALUES(%s, %s, %S)\"\"\")"
   ]
  },
  {
   "cell_type": "code",
   "execution_count": 40,
   "metadata": {},
   "outputs": [
    {
     "name": "stdout",
     "output_type": "stream",
     "text": [
      "'utf-8' codec can't decode bytes in position 15-16: invalid continuation byte\n",
      "Table populated. Connection closed.\n"
     ]
    }
   ],
   "source": [
    "populate('Copy.csv', \"\"\"INSERT INTO COPY (DOCID, COPYNO, BID, POSITION) VALUES(%s, %s, %S, %S)\"\"\")"
   ]
  }
 ],
 "metadata": {
  "kernelspec": {
   "display_name": "Python 3",
   "language": "python",
   "name": "python3"
  },
  "language_info": {
   "codemirror_mode": {
    "name": "ipython",
    "version": 3
   },
   "file_extension": ".py",
   "mimetype": "text/x-python",
   "name": "python",
   "nbconvert_exporter": "python",
   "pygments_lexer": "ipython3",
   "version": "3.8.3"
  }
 },
 "nbformat": 4,
 "nbformat_minor": 4
}
